{
  "nbformat": 4,
  "nbformat_minor": 0,
  "metadata": {
    "colab": {
      "provenance": [],
      "authorship_tag": "ABX9TyPlX+qtNxY0p/cQUt4kROyV",
      "include_colab_link": true
    },
    "kernelspec": {
      "name": "python3",
      "display_name": "Python 3"
    },
    "language_info": {
      "name": "python"
    }
  },
  "cells": [
    {
      "cell_type": "markdown",
      "metadata": {
        "id": "view-in-github",
        "colab_type": "text"
      },
      "source": [
        "<a href=\"https://colab.research.google.com/github/dhina0024/Dhinakar/blob/main/Untitled4.ipynb\" target=\"_parent\"><img src=\"https://colab.research.google.com/assets/colab-badge.svg\" alt=\"Open In Colab\"/></a>"
      ]
    },
    {
      "cell_type": "code",
      "execution_count": null,
      "metadata": {
        "id": "HjeVhynFPZVw"
      },
      "outputs": [],
      "source": [
        "1) Python?\n",
        " Python is an interpreted, object-oriented, high-level programming language with dynamic semantics developed by Guido van Rossum.\n",
        " It was originally released in 1991. Designed to be easy as well as fun, the name \"Python\" is a nod to the British comedy group Monty Python.\n",
        " Python has a reputation as a beginner-friendly language, replacing Java as the most widely used introductory language\n",
        " because it handles much of the complexity for the user, allowing beginners to focus on fully grasping programming concepts rather than minute details.\n",
        " Python is used for server-side web development, software development, mathematics, and system scripting, and is popular for Rapid Application Development\n",
        "and as a scripting or glue language to tie existing components because of its high-level, built-in data structures, dynamic typing, and dynamic binding."
      ]
    },
    {
      "cell_type": "code",
      "source": [
        "print('Create User')\n",
        "User_Name = input('Create User_Name\\n')\n",
        "Password = input('Create Password\\n')\n",
        "Enter_User = input('Enter User Name\\n')\n",
        "Enter_Password=input('Enter the Password\\n')\n",
        "if User_Name == Enter_User and Password == Enter_Password:\n",
        "    print(\"Successfully Login\")\n",
        "else:\n",
        "    print('Incorrect Username or Password')"
      ],
      "metadata": {
        "colab": {
          "base_uri": "https://localhost:8080/"
        },
        "id": "GGTwN-PWQbvN",
        "outputId": "71f2fc81-04dc-4d06-f23c-e8887481d298"
      },
      "execution_count": 1,
      "outputs": [
        {
          "output_type": "stream",
          "name": "stdout",
          "text": [
            "Create User\n",
            "Create User_Name\n",
            "dhina\n",
            "Create Password\n",
            "dhina123\n",
            "Enter User Name\n",
            "dhina\n",
            "Enter the Password\n",
            "dhina12\n",
            "Incorrect Username or Password\n"
          ]
        }
      ]
    },
    {
      "cell_type": "code",
      "source": [
        "print('Find the odd or Even')\n",
        "Type_Number = int(input('Enter the number\\n'))\n",
        "if Type_Number % 2 == 0:\n",
        " print(\"its even number\")\n",
        "else:\n",
        "     print(\"its odd number\")"
      ],
      "metadata": {
        "colab": {
          "base_uri": "https://localhost:8080/"
        },
        "id": "kCMaDkWrQ83z",
        "outputId": "b6f700a7-10c8-4c66-d5aa-f1f6fa83475d"
      },
      "execution_count": 2,
      "outputs": [
        {
          "output_type": "stream",
          "name": "stdout",
          "text": [
            "Find the odd or Even\n",
            "Enter the number\n",
            "67\n",
            "its odd number\n"
          ]
        }
      ]
    },
    {
      "cell_type": "code",
      "source": [
        "print('List of Fruits')\n",
        "Fruits={'banana','starfruit','mango','pears','banana','apple','jackfruit','watermelon'}\n",
        "for x in Fruits:\n",
        "    print(x)"
      ],
      "metadata": {
        "colab": {
          "base_uri": "https://localhost:8080/"
        },
        "id": "wp41yOhJSr6n",
        "outputId": "3e676a2c-b143-4083-eefe-fe2231580ce9"
      },
      "execution_count": 3,
      "outputs": [
        {
          "output_type": "stream",
          "name": "stdout",
          "text": [
            "List of Fruits\n",
            "banana\n",
            "jackfruit\n",
            "watermelon\n",
            "starfruit\n",
            "pears\n",
            "apple\n",
            "mango\n"
          ]
        }
      ]
    }
  ]
}